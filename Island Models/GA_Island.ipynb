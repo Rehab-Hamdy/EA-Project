{
  "metadata": {
    "kernelspec": {
      "language": "python",
      "display_name": "Python 3",
      "name": "python3"
    },
    "language_info": {
      "name": "python",
      "version": "3.11.11",
      "mimetype": "text/x-python",
      "codemirror_mode": {
        "name": "ipython",
        "version": 3
      },
      "pygments_lexer": "ipython3",
      "nbconvert_exporter": "python",
      "file_extension": ".py"
    },
    "kaggle": {
      "accelerator": "none",
      "dataSources": [],
      "dockerImageVersionId": 31012,
      "isInternetEnabled": true,
      "language": "python",
      "sourceType": "notebook",
      "isGpuEnabled": false
    },
    "colab": {
      "provenance": []
    }
  },
  "nbformat_minor": 0,
  "nbformat": 4,
  "cells": [
    {
      "cell_type": "markdown",
      "source": [
        "# Libraries"
      ],
      "metadata": {
        "id": "c7PbgWQfZOpC"
      }
    },
    {
      "cell_type": "code",
      "source": [
        "import tensorflow as tf\n",
        "import random\n",
        "import numpy as np\n",
        "SEED = 10\n",
        "random.seed(SEED)       # Sets seed for Python's built-in random module\n",
        "np.random.seed(SEED)    # Sets seed for NumPy's random functions\n",
        "tf.random.set_seed(SEED)  # Sets seed for TensorFlow's random operations"
      ],
      "metadata": {
        "trusted": true,
        "execution": {
          "iopub.status.busy": "2025-05-12T15:29:08.057603Z",
          "iopub.execute_input": "2025-05-12T15:29:08.058156Z",
          "iopub.status.idle": "2025-05-12T15:29:08.063008Z",
          "shell.execute_reply.started": "2025-05-12T15:29:08.058130Z",
          "shell.execute_reply": "2025-05-12T15:29:08.062129Z"
        },
        "id": "6_-Qr-TUZOpF"
      },
      "outputs": [],
      "execution_count": null
    },
    {
      "cell_type": "markdown",
      "source": [
        "# Dataset"
      ],
      "metadata": {
        "id": "Z3dwhPv0ZOpG"
      }
    },
    {
      "cell_type": "markdown",
      "source": [
        "Minst Dataset\n",
        "\n",
        "*   60,000 training images\n",
        "*   10,000 test images\n",
        "*   28x28 pixels (784 pixels)\n",
        "*   Grayscale\n",
        "*   Labled\n",
        "\n",
        "\n",
        "\n",
        "\n"
      ],
      "metadata": {
        "id": "w24pVK8rZOpG"
      }
    },
    {
      "cell_type": "code",
      "source": [
        "# Load and preprocess MNIST\n",
        "(x_train, y_train), (x_test, y_test) = tf.keras.datasets.mnist.load_data()\n",
        "\n",
        "#Normalization\n",
        "x_train = x_train.reshape(-1, 784).astype(np.float32) / 255.0\n",
        "x_test = x_test.reshape(-1, 784).astype(np.float32) / 255.0\n",
        "\n",
        "#One-Hot-Encoding\n",
        "y_train = tf.keras.utils.to_categorical(y_train, 10)\n",
        "y_test = tf.keras.utils.to_categorical(y_test, 10)\n",
        "\n",
        "#Training Set\n",
        "x_train_subset = x_train[:5000]\n",
        "y_train_subset = y_train[:5000]\n",
        "\n",
        "#Testing Set\n",
        "x_test_subset = x_test[:10000]\n",
        "y_test_subset = y_test[:10000]"
      ],
      "metadata": {
        "trusted": true,
        "execution": {
          "iopub.status.busy": "2025-05-12T15:29:08.064576Z",
          "iopub.execute_input": "2025-05-12T15:29:08.064857Z",
          "iopub.status.idle": "2025-05-12T15:29:08.708936Z",
          "shell.execute_reply.started": "2025-05-12T15:29:08.064836Z",
          "shell.execute_reply": "2025-05-12T15:29:08.708065Z"
        },
        "id": "Z50LPSt6ZOpH"
      },
      "outputs": [],
      "execution_count": null
    },
    {
      "cell_type": "markdown",
      "source": [
        "# Neural Network"
      ],
      "metadata": {
        "id": "zWvplUmFZOpH"
      }
    },
    {
      "cell_type": "code",
      "source": [
        "#ReLU activation (for hidden layer)\n",
        "def relu(x):\n",
        "    return np.maximum(0, x)\n",
        "\n",
        "#Softmax activation (for output layer)\n",
        "def softmax(x):\n",
        "    e_x = np.exp(x - np.max(x, axis=1, keepdims=True))#We subtract to avoid big numbers when we take the exponential,This helps with numerical stability.\n",
        "    return e_x / np.sum(e_x, axis=1, keepdims=True)\n",
        "\n",
        "# Vector decoding (update dimensions to match 32 hidden units)\n",
        "def decode_vector(vector):\n",
        "    W1 = vector[0:25088].reshape((784, 32))\n",
        "    b1 = vector[25088:25120].reshape((32,))\n",
        "    W2 = vector[25120:25440].reshape((32, 10))\n",
        "    b2 = vector[25440:25450].reshape((10,))\n",
        "    return W1, b1, W2, b2\n",
        "\n",
        "# Model forward pass\n",
        "def forward(X, W1, b1, W2, b2):\n",
        "    Z1 = X @ W1 + b1      # Linear part\n",
        "    A1 = relu(Z1)         # Apply ReLU\n",
        "    Z2 = A1 @ W2 + b2     # Linear part\n",
        "    A2 = softmax(Z2)      # Apply softmax\n",
        "    return A2\n",
        "\n",
        "def cross_entropy(preds, targets, eps=1e-12):\n",
        "    preds = np.clip(preds, eps, 1 - eps)  # Avoid log(0) which is undefined and log(1) as it is = 0 , range = (eps , 1 - eps)\n",
        "    return -np.mean(np.sum(targets * np.log(preds), axis=1))\n",
        "\n",
        "def fitness_function(vector):\n",
        "    #Vector Decoding\n",
        "    W1, b1, W2, b2 = decode_vector(vector)\n",
        "\n",
        "    #Forward pass\n",
        "    probs = forward(x_train_subset, W1, b1, W2, b2)\n",
        "\n",
        "    #Cross-entropy loss\n",
        "    ce_loss = cross_entropy(probs, y_train_subset)\n",
        "\n",
        "    return ce_loss\n",
        "\n",
        "# He initialization for 32 ReLU units , \"\"weight = np.random.randn(...) * sqrt(2 / n)\"\"scaling the randoms\n",
        "def he_vector(input_dim=784, hidden_dim=32, output_dim=10):\n",
        "    w1 = np.random.randn(input_dim, hidden_dim) * np.sqrt(2 / input_dim)\n",
        "    b1 = np.zeros(hidden_dim)\n",
        "    w2 = np.random.randn(hidden_dim, output_dim) * np.sqrt(2 / hidden_dim)\n",
        "    b2 = np.zeros(output_dim)\n",
        "    return np.concatenate([w1.flatten(), b1, w2.flatten(), b2])"
      ],
      "metadata": {
        "trusted": true,
        "execution": {
          "iopub.status.busy": "2025-05-12T15:29:08.710285Z",
          "iopub.execute_input": "2025-05-12T15:29:08.710629Z",
          "iopub.status.idle": "2025-05-12T15:29:08.720550Z",
          "shell.execute_reply.started": "2025-05-12T15:29:08.710609Z",
          "shell.execute_reply": "2025-05-12T15:29:08.719730Z"
        },
        "id": "N0GJi2gAZOpI"
      },
      "outputs": [],
      "execution_count": null
    },
    {
      "cell_type": "markdown",
      "source": [
        "# GA Methods"
      ],
      "metadata": {
        "id": "dj9Gtyh5ZOpI"
      }
    },
    {
      "cell_type": "markdown",
      "source": [
        "**Selection**"
      ],
      "metadata": {
        "id": "SW2eifJ6ZOpJ"
      }
    },
    {
      "cell_type": "code",
      "source": [
        "#Parent Selection\n",
        "def tournament_selection(population, fitness, k):\n",
        "    indices = np.random.choice(len(population), k, replace=False)\n",
        "    best_idx = indices[np.argmin(fitness[indices])]\n",
        "    return population[best_idx]\n",
        "\n",
        "#Survivor Selection\n",
        "def elitism(parents, parent_fitness, offspring, offspring_fitness, num_elites=2):\n",
        "    # Select best 'num_elites' parents (lowest loss)\n",
        "    elite_indices = np.argpartition(parent_fitness, num_elites)[:num_elites]\n",
        "    elites = parents[elite_indices]\n",
        "    elite_fitness = parent_fitness[elite_indices]\n",
        "\n",
        "    # Select best offspring to fill remaining spots\n",
        "    num_remaining = len(parents) - num_elites\n",
        "    best_offspring_indices = np.argpartition(offspring_fitness, num_remaining)[:num_remaining]\n",
        "    selected_offspring = offspring[best_offspring_indices]\n",
        "    selected_offspring_fitness = offspring_fitness[best_offspring_indices]\n",
        "\n",
        "    # Combine elites and selected offspring\n",
        "    new_population = np.vstack((elites, selected_offspring))\n",
        "    new_fitness = np.concatenate((elite_fitness, selected_offspring_fitness))\n",
        "\n",
        "    return new_population, new_fitness"
      ],
      "metadata": {
        "trusted": true,
        "execution": {
          "iopub.status.busy": "2025-05-12T15:29:08.721447Z",
          "iopub.execute_input": "2025-05-12T15:29:08.721736Z",
          "iopub.status.idle": "2025-05-12T15:29:08.746005Z",
          "shell.execute_reply.started": "2025-05-12T15:29:08.721712Z",
          "shell.execute_reply": "2025-05-12T15:29:08.745191Z"
        },
        "id": "1NRTaWq4ZOpJ"
      },
      "outputs": [],
      "execution_count": null
    },
    {
      "cell_type": "markdown",
      "source": [
        "**Crossover**"
      ],
      "metadata": {
        "id": "h3EMmc2wZOpJ"
      }
    },
    {
      "cell_type": "code",
      "source": [
        "def blx_alpha_crossover(p1, p2, alpha = 0.5):\n",
        "    p1, p2 = np.array(p1), np.array(p2)\n",
        "    assert p1.shape == p2.shape, \"Parents must have the same shape\"\n",
        "    diff = np.abs(p1 - p2)\n",
        "    low = np.minimum(p1, p2) - alpha * diff\n",
        "    high = np.maximum(p1, p2) + alpha * diff\n",
        "    return np.random.uniform(low, high) , np.random.uniform(low, high)\n",
        "\n",
        "def arithmetic_crossover(p1, p2, alpha):  # Common fixed value\n",
        "    p1, p2 = np.array(p1), np.array(p2)\n",
        "    assert p1.shape == p2.shape, \"Parents must have the same shape\"\n",
        "    return alpha * p1 + (1 - alpha) * p2, alpha * p2 + (1 - alpha) * p1"
      ],
      "metadata": {
        "trusted": true,
        "execution": {
          "iopub.status.busy": "2025-05-12T15:29:08.747823Z",
          "iopub.execute_input": "2025-05-12T15:29:08.748623Z",
          "iopub.status.idle": "2025-05-12T15:29:08.769689Z",
          "shell.execute_reply.started": "2025-05-12T15:29:08.748596Z",
          "shell.execute_reply": "2025-05-12T15:29:08.768900Z"
        },
        "id": "JGKp11gfZOpJ"
      },
      "outputs": [],
      "execution_count": null
    },
    {
      "cell_type": "markdown",
      "source": [
        "**Mutation**"
      ],
      "metadata": {
        "id": "Oz9oCn3_ZOpK"
      }
    },
    {
      "cell_type": "code",
      "source": [
        "def gaussian_mutation(individual,sigma , rate=0.01):\n",
        "    individual = np.asarray(individual)\n",
        "    mutant = individual.copy()\n",
        "    mask = np.random.rand(*mutant.shape) < rate\n",
        "    if np.any(mask):\n",
        "        mutant[mask] += np.random.normal(0, sigma, size=np.sum(mask))\n",
        "    return mutant\n",
        "\n",
        "def cauchy_mutation(ind, sigma):\n",
        "    ind = np.asarray(ind)\n",
        "    mutation = np.random.standard_cauchy(size=ind.shape) * sigma\n",
        "    return ind + mutation"
      ],
      "metadata": {
        "trusted": true,
        "execution": {
          "iopub.status.busy": "2025-05-12T15:29:08.770697Z",
          "iopub.execute_input": "2025-05-12T15:29:08.771020Z",
          "iopub.status.idle": "2025-05-12T15:29:08.788268Z",
          "shell.execute_reply.started": "2025-05-12T15:29:08.770992Z",
          "shell.execute_reply": "2025-05-12T15:29:08.787378Z"
        },
        "id": "h-Dkpyh-ZOpK"
      },
      "outputs": [],
      "execution_count": null
    },
    {
      "cell_type": "markdown",
      "source": [
        "**Parallel**"
      ],
      "metadata": {
        "id": "JLQNyNHSZOpK"
      }
    },
    {
      "cell_type": "code",
      "source": [
        "from joblib import Parallel, delayed\n",
        "# === Parallel fitness evaluation helper ===\n",
        "def parallel_fitness(pop):\n",
        "    return np.array(Parallel(n_jobs=-1)(delayed(fitness_function)(ind) for ind in pop))"
      ],
      "metadata": {
        "trusted": true,
        "execution": {
          "iopub.status.busy": "2025-05-12T15:29:08.789121Z",
          "iopub.execute_input": "2025-05-12T15:29:08.789586Z",
          "iopub.status.idle": "2025-05-12T15:29:08.810288Z",
          "shell.execute_reply.started": "2025-05-12T15:29:08.789554Z",
          "shell.execute_reply": "2025-05-12T15:29:08.809300Z"
        },
        "id": "_omKbGpzZOpK"
      },
      "outputs": [],
      "execution_count": null
    },
    {
      "cell_type": "markdown",
      "source": [
        "# GA Island Model"
      ],
      "metadata": {
        "id": "LnzJqAn5ZOpL"
      }
    },
    {
      "cell_type": "code",
      "source": [
        "def init_islands(pop_size, num_islands):\n",
        "    total_size = pop_size * num_islands\n",
        "    total_pop = np.array([he_vector() for _ in range(total_size)])\n",
        "    total_fit = parallel_fitness(total_pop)\n",
        "\n",
        "    # Randomly shuffle and split into islands\n",
        "    indices = np.random.permutation(total_size)\n",
        "    pop_shuffled = total_pop[indices]\n",
        "    fit_shuffled = total_fit[indices]\n",
        "\n",
        "    islands = np.array_split(pop_shuffled, num_islands)\n",
        "    fits = np.array_split(fit_shuffled, num_islands)\n",
        "\n",
        "    return list(islands), list(fits)"
      ],
      "metadata": {
        "trusted": true,
        "execution": {
          "iopub.status.busy": "2025-05-12T15:29:08.811368Z",
          "iopub.execute_input": "2025-05-12T15:29:08.811763Z",
          "iopub.status.idle": "2025-05-12T15:29:08.829263Z",
          "shell.execute_reply.started": "2025-05-12T15:29:08.811737Z",
          "shell.execute_reply": "2025-05-12T15:29:08.828390Z"
        },
        "id": "8LViE5jdZOpL"
      },
      "outputs": [],
      "execution_count": null
    },
    {
      "cell_type": "code",
      "source": [
        "def evolve_all_islands(islands, fits, pop_size):\n",
        "    num_islands = len(islands)\n",
        "    new_islands = []\n",
        "    new_fits = []\n",
        "\n",
        "    # Crossover and mutation settings per island\n",
        "    crossover_funcs = [arithmetic_crossover, blx_alpha_crossover, blx_alpha_crossover, arithmetic_crossover]\n",
        "    mutation_funcs = [gaussian_mutation, cauchy_mutation, gaussian_mutation, cauchy_mutation]\n",
        "    alpha_values = [0.5, 0.1, 0.1, 0.5]\n",
        "    mutation_scales = [0.02, 0.1, 0.1, 0.1]\n",
        "\n",
        "    for i in range(num_islands):\n",
        "        pop = np.array(islands[i])\n",
        "        fit = np.array(fits[i])\n",
        "        offspring = []\n",
        "\n",
        "        # Generate offspring\n",
        "        for _ in range(pop_size // 2):\n",
        "            # Parent selection\n",
        "            p1 = tournament_selection(pop, fit, k=3)\n",
        "            p2 = tournament_selection(pop, fit, k=3)\n",
        "\n",
        "            # Crossover\n",
        "            c1, c2 = crossover_funcs[i](p1, p2, alpha=alpha_values[i])\n",
        "\n",
        "            # Mutation\n",
        "            c1 = mutation_funcs[i](c1, sigma=mutation_scales[i])\n",
        "            c2 = mutation_funcs[i](c2, sigma=mutation_scales[i])\n",
        "\n",
        "            offspring.extend([c1, c2])\n",
        "\n",
        "        offspring = np.array(offspring)\n",
        "\n",
        "        # Evaluate fitness\n",
        "        offspring_fitness = parallel_fitness(offspring)\n",
        "\n",
        "        #Survivor selection\n",
        "        new_pop, new_fit = elitism(pop, fit, offspring, offspring_fitness, num_elites=2)\n",
        "\n",
        "        new_islands.append(new_pop)\n",
        "        new_fits.append(new_fit)\n",
        "\n",
        "    return new_islands, new_fits"
      ],
      "metadata": {
        "trusted": true,
        "execution": {
          "iopub.status.busy": "2025-05-12T15:29:08.830211Z",
          "iopub.execute_input": "2025-05-12T15:29:08.830535Z",
          "iopub.status.idle": "2025-05-12T15:29:08.847009Z",
          "shell.execute_reply.started": "2025-05-12T15:29:08.830506Z",
          "shell.execute_reply": "2025-05-12T15:29:08.846250Z"
        },
        "id": "AUTBhbdsZOpL"
      },
      "outputs": [],
      "execution_count": null
    },
    {
      "cell_type": "code",
      "source": [
        "def ga(vector_size, pop_size=20, generations=3000, migration_interval=50, num_islands=4):\n",
        "    #Initialization\n",
        "    islands, fits = init_islands(pop_size, num_islands)\n",
        "    loss_history = []\n",
        "\n",
        "\n",
        "    for gen in range(generations):\n",
        "        #Evolve one generation\n",
        "        islands, fits = evolve_all_islands(islands, fits, pop_size)\n",
        "\n",
        "\n",
        "        # Migration\n",
        "        if gen % migration_interval == 0 and gen > 0:\n",
        "            #Migrants\n",
        "            migrant_pool = [island[np.random.choice(pop_size, 2, replace=False)] for island in islands]\n",
        "\n",
        "            #Apply Migrations\n",
        "            for i in range(num_islands):\n",
        "                next_i = (i + 1) % num_islands\n",
        "                worst_idx = np.argsort(fits[next_i])[-2:]\n",
        "                islands[next_i][worst_idx[0]] = migrant_pool[i][0]\n",
        "                islands[next_i][worst_idx[1]] = migrant_pool[i][1]\n",
        "                fits[next_i][worst_idx] = parallel_fitness(migrant_pool[i])\n",
        "\n",
        "        # Logging\n",
        "        best_loss = np.min(fits)\n",
        "        loss_history.append(best_loss)\n",
        "\n",
        "        if gen % 50 == 0:\n",
        "            print(f\"[Gen {gen:04d}] Best Loss: {best_loss:.4f}\")\n",
        "            for i in range(num_islands):\n",
        "                print(f\"  Island {i+1} | Best: {np.min(fits[i]):.4f} | Avg: {np.mean(fits[i]):.4f}\")\n",
        "\n",
        "    all_pop = np.vstack(islands)\n",
        "    all_fit = np.concatenate(fits)\n",
        "    return all_pop[np.argmin(all_fit)], loss_history"
      ],
      "metadata": {
        "trusted": true,
        "execution": {
          "iopub.status.busy": "2025-05-12T15:29:08.848008Z",
          "iopub.execute_input": "2025-05-12T15:29:08.848342Z",
          "iopub.status.idle": "2025-05-12T15:29:08.869111Z",
          "shell.execute_reply.started": "2025-05-12T15:29:08.848315Z",
          "shell.execute_reply": "2025-05-12T15:29:08.868223Z"
        },
        "id": "vJoSxJxsZOpM"
      },
      "outputs": [],
      "execution_count": null
    },
    {
      "cell_type": "markdown",
      "source": [
        "# Run"
      ],
      "metadata": {
        "id": "cYlHNOnwZOpN"
      }
    },
    {
      "cell_type": "code",
      "source": [
        "# Set seed for reproducibility\n",
        "np.random.seed(SEED)\n",
        "best_solution , loss_history = ga(vector_size=25450)"
      ],
      "metadata": {
        "trusted": true,
        "execution": {
          "iopub.status.busy": "2025-05-12T15:29:08.871646Z",
          "iopub.execute_input": "2025-05-12T15:29:08.871918Z",
          "iopub.status.idle": "2025-05-12T18:24:17.571770Z",
          "shell.execute_reply.started": "2025-05-12T15:29:08.871896Z",
          "shell.execute_reply": "2025-05-12T18:24:17.570485Z"
        },
        "id": "OO2fQcBtZOpN",
        "outputId": "0dbed3d6-188f-499b-fb08-654a3a97c47c"
      },
      "outputs": [
        {
          "name": "stdout",
          "text": "[Gen 0000] Best Loss: 2.2867\n  Island 1 | Best: 2.2885 | Avg: 2.3094\n  Island 2 | Best: 2.2880 | Avg: 21.9661\n  Island 3 | Best: 2.2884 | Avg: 2.3507\n  Island 4 | Best: 2.2867 | Avg: 22.1136\n[Gen 0050] Best Loss: 1.8903\n  Island 1 | Best: 2.2136 | Avg: 4.2612\n  Island 2 | Best: 2.2173 | Avg: 19.4967\n  Island 3 | Best: 1.8903 | Avg: 4.1590\n  Island 4 | Best: 1.9087 | Avg: 19.0778\n[Gen 0100] Best Loss: 1.6015\n  Island 1 | Best: 1.9087 | Avg: 3.2286\n  Island 2 | Best: 2.1339 | Avg: 19.7298\n  Island 3 | Best: 1.6015 | Avg: 2.7590\n  Island 4 | Best: 1.6051 | Avg: 19.3025\n[Gen 0150] Best Loss: 1.3423\n  Island 1 | Best: 1.8328 | Avg: 3.8096\n  Island 2 | Best: 1.8340 | Avg: 19.8189\n  Island 3 | Best: 1.3423 | Avg: 3.6454\n  Island 4 | Best: 1.3577 | Avg: 18.7544\n[Gen 0200] Best Loss: 1.1329\n  Island 1 | Best: 1.3589 | Avg: 2.9039\n  Island 2 | Best: 1.7436 | Avg: 19.2389\n  Island 3 | Best: 1.1329 | Avg: 3.4677\n  Island 4 | Best: 1.1396 | Avg: 19.1781\n[Gen 0250] Best Loss: 0.9771\n  Island 1 | Best: 1.2948 | Avg: 3.5727\n  Island 2 | Best: 1.2948 | Avg: 19.2432\n  Island 3 | Best: 0.9771 | Avg: 3.2642\n  Island 4 | Best: 0.9823 | Avg: 19.3178\n[Gen 0300] Best Loss: 0.8282\n  Island 1 | Best: 1.2353 | Avg: 3.4924\n  Island 2 | Best: 1.2382 | Avg: 19.3161\n  Island 3 | Best: 0.8282 | Avg: 3.1227\n  Island 4 | Best: 0.8369 | Avg: 19.0865\n[Gen 0350] Best Loss: 0.7243\n  Island 1 | Best: 1.1721 | Avg: 3.4847\n  Island 2 | Best: 1.1752 | Avg: 19.1035\n  Island 3 | Best: 0.7243 | Avg: 3.0147\n  Island 4 | Best: 0.7290 | Avg: 19.6633\n[Gen 0400] Best Loss: 0.6392\n  Island 1 | Best: 1.1156 | Avg: 3.4091\n  Island 2 | Best: 1.1176 | Avg: 19.1912\n  Island 3 | Best: 0.6392 | Avg: 3.0464\n  Island 4 | Best: 0.6392 | Avg: 19.2512\n[Gen 0450] Best Loss: 0.5812\n  Island 1 | Best: 1.0600 | Avg: 3.2851\n  Island 2 | Best: 1.0600 | Avg: 18.7307\n  Island 3 | Best: 0.5812 | Avg: 2.7791\n  Island 4 | Best: 0.5820 | Avg: 19.1562\n[Gen 0500] Best Loss: 0.5267\n  Island 1 | Best: 0.5839 | Avg: 2.0414\n  Island 2 | Best: 1.0091 | Avg: 19.1891\n  Island 3 | Best: 0.5267 | Avg: 2.6616\n  Island 4 | Best: 0.5292 | Avg: 18.5618\n[Gen 0550] Best Loss: 0.4884\n  Island 1 | Best: 0.5309 | Avg: 1.6954\n  Island 2 | Best: 0.5628 | Avg: 19.3854\n  Island 3 | Best: 0.4884 | Avg: 2.8058\n  Island 4 | Best: 0.4908 | Avg: 18.6844\n[Gen 0600] Best Loss: 0.4551\n  Island 1 | Best: 0.5138 | Avg: 2.7609\n  Island 2 | Best: 0.5148 | Avg: 18.6739\n  Island 3 | Best: 0.4551 | Avg: 2.7490\n  Island 4 | Best: 0.4554 | Avg: 18.9118\n[Gen 0650] Best Loss: 0.4243\n  Island 1 | Best: 0.4984 | Avg: 2.7605\n  Island 2 | Best: 0.4984 | Avg: 19.4452\n  Island 3 | Best: 0.4243 | Avg: 2.8339\n  Island 4 | Best: 0.4266 | Avg: 18.6078\n[Gen 0700] Best Loss: 0.3978\n  Island 1 | Best: 0.4842 | Avg: 2.7487\n  Island 2 | Best: 0.4852 | Avg: 19.0708\n  Island 3 | Best: 0.3978 | Avg: 2.7665\n  Island 4 | Best: 0.3980 | Avg: 19.3926\n[Gen 0750] Best Loss: 0.3785\n  Island 1 | Best: 0.4687 | Avg: 2.8137\n  Island 2 | Best: 0.4692 | Avg: 19.6860\n  Island 3 | Best: 0.3785 | Avg: 2.9248\n  Island 4 | Best: 0.3805 | Avg: 18.7046\n[Gen 0800] Best Loss: 0.3599\n  Island 1 | Best: 0.4559 | Avg: 2.7484\n  Island 2 | Best: 0.4563 | Avg: 19.4875\n  Island 3 | Best: 0.3599 | Avg: 2.7255\n  Island 4 | Best: 0.3614 | Avg: 18.7042\n[Gen 0850] Best Loss: 0.3417\n  Island 1 | Best: 0.4428 | Avg: 2.8013\n  Island 2 | Best: 0.4432 | Avg: 19.1396\n  Island 3 | Best: 0.3417 | Avg: 2.6878\n  Island 4 | Best: 0.3438 | Avg: 18.6704\n[Gen 0900] Best Loss: 0.3275\n  Island 1 | Best: 0.4307 | Avg: 2.8396\n  Island 2 | Best: 0.4309 | Avg: 19.3888\n  Island 3 | Best: 0.3275 | Avg: 2.7029\n  Island 4 | Best: 0.3301 | Avg: 19.0362\n[Gen 0950] Best Loss: 0.3132\n  Island 1 | Best: 0.4190 | Avg: 2.7658\n  Island 2 | Best: 0.4193 | Avg: 18.7539\n  Island 3 | Best: 0.3132 | Avg: 1.4423\n  Island 4 | Best: 0.3132 | Avg: 19.2294\n[Gen 1000] Best Loss: 0.3036\n  Island 1 | Best: 0.4085 | Avg: 2.8246\n  Island 2 | Best: 0.4086 | Avg: 18.9488\n  Island 3 | Best: 0.3036 | Avg: 2.6492\n  Island 4 | Best: 0.3047 | Avg: 18.9919\n[Gen 1050] Best Loss: 0.2922\n  Island 1 | Best: 0.4000 | Avg: 2.7178\n  Island 2 | Best: 0.4003 | Avg: 19.4940\n  Island 3 | Best: 0.2922 | Avg: 2.8006\n  Island 4 | Best: 0.2933 | Avg: 17.9923\n[Gen 1100] Best Loss: 0.2848\n  Island 1 | Best: 0.3909 | Avg: 2.7260\n  Island 2 | Best: 0.3910 | Avg: 19.0032\n  Island 3 | Best: 0.2848 | Avg: 2.7132\n  Island 4 | Best: 0.2850 | Avg: 18.8978\n[Gen 1150] Best Loss: 0.2762\n  Island 1 | Best: 0.3822 | Avg: 2.6817\n  Island 2 | Best: 0.3826 | Avg: 18.6528\n  Island 3 | Best: 0.2762 | Avg: 2.6217\n  Island 4 | Best: 0.2762 | Avg: 18.7621\n[Gen 1200] Best Loss: 0.2701\n  Island 1 | Best: 0.3736 | Avg: 2.6970\n  Island 2 | Best: 0.3736 | Avg: 19.4147\n  Island 3 | Best: 0.2701 | Avg: 2.6146\n  Island 4 | Best: 0.2703 | Avg: 18.7762\n[Gen 1250] Best Loss: 0.2622\n  Island 1 | Best: 0.2703 | Avg: 1.5566\n  Island 2 | Best: 0.3658 | Avg: 19.0782\n  Island 3 | Best: 0.2622 | Avg: 2.6340\n  Island 4 | Best: 0.2633 | Avg: 19.0551\n[Gen 1300] Best Loss: 0.2552\n  Island 1 | Best: 0.2641 | Avg: 1.4880\n  Island 2 | Best: 0.2649 | Avg: 19.3992\n  Island 3 | Best: 0.2552 | Avg: 2.6968\n  Island 4 | Best: 0.2566 | Avg: 18.9560\n[Gen 1350] Best Loss: 0.2491\n  Island 1 | Best: 0.2570 | Avg: 2.5890\n  Island 2 | Best: 0.2573 | Avg: 19.4782\n  Island 3 | Best: 0.2491 | Avg: 2.7149\n  Island 4 | Best: 0.2525 | Avg: 18.4536\n[Gen 1400] Best Loss: 0.2422\n  Island 1 | Best: 0.2525 | Avg: 1.2703\n  Island 2 | Best: 0.2527 | Avg: 18.9922\n  Island 3 | Best: 0.2422 | Avg: 2.6407\n  Island 4 | Best: 0.2426 | Avg: 17.3436\n[Gen 1450] Best Loss: 0.2370\n  Island 1 | Best: 0.2442 | Avg: 2.6268\n  Island 2 | Best: 0.2443 | Avg: 19.1997\n  Island 3 | Best: 0.2370 | Avg: 2.6072\n  Island 4 | Best: 0.2373 | Avg: 19.3253\n[Gen 1500] Best Loss: 0.2303\n  Island 1 | Best: 0.2387 | Avg: 1.3678\n  Island 2 | Best: 0.2399 | Avg: 18.9101\n  Island 3 | Best: 0.2303 | Avg: 2.4884\n  Island 4 | Best: 0.2311 | Avg: 18.3208\n[Gen 1550] Best Loss: 0.2253\n  Island 1 | Best: 0.2315 | Avg: 2.5040\n  Island 2 | Best: 0.2315 | Avg: 19.3748\n  Island 3 | Best: 0.2253 | Avg: 2.5652\n  Island 4 | Best: 0.2267 | Avg: 19.3040\n[Gen 1600] Best Loss: 0.2208\n  Island 1 | Best: 0.2279 | Avg: 2.5329\n  Island 2 | Best: 0.2280 | Avg: 18.9924\n  Island 3 | Best: 0.2208 | Avg: 2.6112\n  Island 4 | Best: 0.2217 | Avg: 18.7927\n[Gen 1650] Best Loss: 0.2166\n  Island 1 | Best: 0.2242 | Avg: 2.6023\n  Island 2 | Best: 0.2244 | Avg: 18.9382\n  Island 3 | Best: 0.2166 | Avg: 1.3443\n  Island 4 | Best: 0.2170 | Avg: 19.1476\n[Gen 1700] Best Loss: 0.2135\n  Island 1 | Best: 0.2216 | Avg: 2.4955\n  Island 2 | Best: 0.2217 | Avg: 19.1856\n  Island 3 | Best: 0.2135 | Avg: 2.6205\n  Island 4 | Best: 0.2140 | Avg: 18.5348\n[Gen 1750] Best Loss: 0.2100\n  Island 1 | Best: 0.2184 | Avg: 2.5799\n  Island 2 | Best: 0.2184 | Avg: 18.2139\n  Island 3 | Best: 0.2100 | Avg: 2.4807\n  Island 4 | Best: 0.2100 | Avg: 18.6815\n[Gen 1800] Best Loss: 0.2059\n  Island 1 | Best: 0.2101 | Avg: 1.4304\n  Island 2 | Best: 0.2152 | Avg: 19.4688\n  Island 3 | Best: 0.2059 | Avg: 2.6242\n  Island 4 | Best: 0.2059 | Avg: 19.4261\n[Gen 1850] Best Loss: 0.2028\n  Island 1 | Best: 0.2044 | Avg: 2.5804\n  Island 2 | Best: 0.2046 | Avg: 18.8948\n  Island 3 | Best: 0.2028 | Avg: 2.6040\n  Island 4 | Best: 0.2038 | Avg: 19.1028\n[Gen 1900] Best Loss: 0.1984\n  Island 1 | Best: 0.2010 | Avg: 2.4723\n  Island 2 | Best: 0.2011 | Avg: 19.2363\n  Island 3 | Best: 0.1984 | Avg: 2.6385\n  Island 4 | Best: 0.1988 | Avg: 18.5830\n[Gen 1950] Best Loss: 0.1950\n  Island 1 | Best: 0.1977 | Avg: 2.4895\n  Island 2 | Best: 0.1979 | Avg: 18.8964\n  Island 3 | Best: 0.1950 | Avg: 2.5421\n  Island 4 | Best: 0.1963 | Avg: 18.3679\n",
          "output_type": "stream"
        }
      ],
      "execution_count": null
    },
    {
      "cell_type": "code",
      "source": [
        "import matplotlib.pyplot as plt\n",
        "from sklearn.metrics import confusion_matrix\n",
        "from sklearn.metrics import ConfusionMatrixDisplay"
      ],
      "metadata": {
        "trusted": true,
        "execution": {
          "iopub.status.busy": "2025-05-12T18:24:17.572755Z",
          "iopub.execute_input": "2025-05-12T18:24:17.573104Z",
          "iopub.status.idle": "2025-05-12T18:24:17.578166Z",
          "shell.execute_reply.started": "2025-05-12T18:24:17.573069Z",
          "shell.execute_reply": "2025-05-12T18:24:17.577367Z"
        },
        "id": "wG0o2yYcZOpO"
      },
      "outputs": [],
      "execution_count": null
    },
    {
      "cell_type": "code",
      "source": [
        "# Decode weights and predict\n",
        "decoded_weights = decode_vector(best_solution)\n",
        "predictions_test = forward(x_test_subset, *decoded_weights)\n",
        "predictions_train = forward(x_train_subset, *decoded_weights)\n",
        "\n",
        "# Labels and accuracy\n",
        "predicted_labels = np.argmax(predictions_test, axis=1)\n",
        "true_labels = np.argmax(y_test_subset, axis=1)\n",
        "test_accuracy = np.mean(predicted_labels == true_labels)\n",
        "train_accuracy = np.mean(np.argmax(predictions_train, axis=1) == np.argmax(y_train_subset, axis=1))\n",
        "\n",
        "print(f\"\\nFinal Train Accuracy: {train_accuracy * 100:.2f}%\")\n",
        "print(f\"Final Test Accuracy: {test_accuracy * 100:.2f}%\")"
      ],
      "metadata": {
        "trusted": true,
        "execution": {
          "iopub.status.busy": "2025-05-12T18:24:17.579083Z",
          "iopub.execute_input": "2025-05-12T18:24:17.579395Z",
          "iopub.status.idle": "2025-05-12T18:24:17.657401Z",
          "shell.execute_reply.started": "2025-05-12T18:24:17.579369Z",
          "shell.execute_reply": "2025-05-12T18:24:17.656480Z"
        },
        "id": "odapm0zpZOpO",
        "outputId": "b74b0057-6a37-4a5a-f480-23773479c041"
      },
      "outputs": [
        {
          "name": "stdout",
          "text": "\nFinal Train Accuracy: 94.70%\nFinal Test Accuracy: 90.08%\n",
          "output_type": "stream"
        }
      ],
      "execution_count": null
    },
    {
      "cell_type": "code",
      "source": [
        "# Plot loss per generation\n",
        "plt.plot(loss_history, label='Loss')\n",
        "plt.xlabel('Generation')\n",
        "plt.ylabel('Best Loss')\n",
        "plt.title('Loss vs Generation')\n",
        "plt.grid(True)\n",
        "plt.show()"
      ],
      "metadata": {
        "trusted": true,
        "execution": {
          "iopub.status.busy": "2025-05-12T18:24:17.658294Z",
          "iopub.execute_input": "2025-05-12T18:24:17.658589Z",
          "iopub.status.idle": "2025-05-12T18:24:17.835296Z",
          "shell.execute_reply.started": "2025-05-12T18:24:17.658569Z",
          "shell.execute_reply": "2025-05-12T18:24:17.834261Z"
        },
        "id": "jsAH4XUiZOpO",
        "outputId": "82283f12-0af8-4eee-8abf-7ca93856dceb"
      },
      "outputs": [
        {
          "output_type": "display_data",
          "data": {
            "text/plain": "<Figure size 640x480 with 1 Axes>",
            "image/png": "[encoded data removed]"
          },
          "metadata": {}
        }
      ],
      "execution_count": null
    },
    {
      "cell_type": "code",
      "source": [
        "# Confusion Matrix\n",
        "cm = confusion_matrix(true_labels, predicted_labels)\n",
        "disp = ConfusionMatrixDisplay(confusion_matrix=cm)\n",
        "disp.plot(cmap='Blues', values_format='d')\n",
        "plt.title(\"Confusion Matrix\")\n",
        "plt.show()"
      ],
      "metadata": {
        "trusted": true,
        "execution": {
          "iopub.status.busy": "2025-05-12T18:24:17.836371Z",
          "iopub.execute_input": "2025-05-12T18:24:17.836691Z",
          "iopub.status.idle": "2025-05-12T18:24:18.207343Z",
          "shell.execute_reply.started": "2025-05-12T18:24:17.836666Z",
          "shell.execute_reply": "2025-05-12T18:24:18.206443Z"
        },
        "id": "fEAUAygbZOpO",
        "outputId": "a67628b0-5f83-4202-99c2-40c1158d2cc1"
      },
      "outputs": [
        {
          "output_type": "display_data",
          "data": {
            "text/plain": "<Figure size 640x480 with 2 Axes>",
            "image/png": "[encoded data removed]"
          },
          "metadata": {}
        }
      ],
      "execution_count": null
    }
  ]
}