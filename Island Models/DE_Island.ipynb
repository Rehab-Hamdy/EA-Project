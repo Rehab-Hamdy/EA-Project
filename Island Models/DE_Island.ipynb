{
  "cells": [
    {
      "cell_type": "markdown",
      "metadata": {
        "id": "QdYflgmlYyDb"
      },
      "source": [
        "# Libraries"
      ]
    },
    {
      "cell_type": "code",
      "execution_count": null,
      "metadata": {
        "execution": {
          "iopub.execute_input": "2025-05-10T14:23:15.173223Z",
          "iopub.status.busy": "2025-05-10T14:23:15.172833Z",
          "iopub.status.idle": "2025-05-10T14:23:15.178735Z",
          "shell.execute_reply": "2025-05-10T14:23:15.177790Z",
          "shell.execute_reply.started": "2025-05-10T14:23:15.173196Z"
        },
        "id": "kjNZWUJkYyDe",
        "trusted": true
      },
      "outputs": [],
      "source": [
        "import tensorflow as tf\n",
        "import random\n",
        "import numpy as np \n",
        "SEED = 10\n",
        "random.seed(SEED)       # Sets seed for Python's built-in random module\n",
        "np.random.seed(SEED)    # Sets seed for NumPy's random functions\n",
        "tf.random.set_seed(SEED)  # Sets seed for TensorFlow's random operations"
      ]
    },
    {
      "cell_type": "markdown",
      "metadata": {
        "id": "m7xk4JbHYyDg"
      },
      "source": [
        "# Dataset"
      ]
    },
    {
      "cell_type": "markdown",
      "metadata": {
        "id": "bMsYptTDY65Y"
      },
      "source": [
        "Minst Dataset\n",
        "\n",
        "*   60,000 training images\n",
        "*   10,000 test images\n",
        "*   28x28 pixels (784 pixels)\n",
        "*   Grayscale\n",
        "*   Labled\n",
        "\n",
        "\n",
        "\n",
        "\n"
      ]
    },
    {
      "cell_type": "code",
      "execution_count": null,
      "metadata": {
        "execution": {
          "iopub.execute_input": "2025-05-10T14:23:15.182602Z",
          "iopub.status.busy": "2025-05-10T14:23:15.182245Z",
          "iopub.status.idle": "2025-05-10T14:23:15.663092Z",
          "shell.execute_reply": "2025-05-10T14:23:15.662305Z",
          "shell.execute_reply.started": "2025-05-10T14:23:15.182579Z"
        },
        "id": "5h_SVCVcYyDh",
        "trusted": true
      },
      "outputs": [],
      "source": [
        "# Load and preprocess MNIST\n",
        "(x_train, y_train), (x_test, y_test) = tf.keras.datasets.mnist.load_data()\n",
        "\n",
        "#Normalization\n",
        "x_train = x_train.reshape(-1, 784).astype(np.float32) / 255.0\n",
        "x_test = x_test.reshape(-1, 784).astype(np.float32) / 255.0\n",
        "\n",
        "#One-Hot-Encoding\n",
        "y_train = tf.keras.utils.to_categorical(y_train, 10)\n",
        "y_test = tf.keras.utils.to_categorical(y_test, 10)\n",
        "\n",
        "#Training Set\n",
        "x_train_subset = x_train[:5000]\n",
        "y_train_subset = y_train[:5000]\n",
        "\n",
        "#Testing Set\n",
        "x_test_subset = x_test[:10000]\n",
        "y_test_subset = y_test[:10000]"
      ]
    },
    {
      "cell_type": "markdown",
      "metadata": {
        "id": "XwEVhg2WYyDj"
      },
      "source": [
        "# Neural Network"
      ]
    },
    {
      "cell_type": "code",
      "execution_count": null,
      "metadata": {
        "execution": {
          "iopub.execute_input": "2025-05-10T14:23:15.664742Z",
          "iopub.status.busy": "2025-05-10T14:23:15.664426Z",
          "iopub.status.idle": "2025-05-10T14:23:15.674811Z",
          "shell.execute_reply": "2025-05-10T14:23:15.673861Z",
          "shell.execute_reply.started": "2025-05-10T14:23:15.664710Z"
        },
        "id": "K47x1XOdYyDj",
        "trusted": true
      },
      "outputs": [],
      "source": [
        "#ReLU activation (for hidden layer)\n",
        "def relu(x):\n",
        "    return np.maximum(0, x)\n",
        "\n",
        "#Softmax activation (for output layer)\n",
        "def softmax(x):\n",
        "    e_x = np.exp(x - np.max(x, axis=1, keepdims=True))#We subtract to avoid big numbers when we take the exponential,This helps with numerical stability.\n",
        "    return e_x / np.sum(e_x, axis=1, keepdims=True)\n",
        "\n",
        "# Vector decoding (update dimensions to match 32 hidden units)\n",
        "def decode_vector(vector):\n",
        "    W1 = vector[0:25088].reshape((784, 32))\n",
        "    b1 = vector[25088:25120].reshape((32,))\n",
        "    W2 = vector[25120:25440].reshape((32, 10))\n",
        "    b2 = vector[25440:25450].reshape((10,))\n",
        "    return W1, b1, W2, b2\n",
        "\n",
        "# Model forward pass\n",
        "def forward(X, W1, b1, W2, b2):\n",
        "    Z1 = X @ W1 + b1      # Linear part\n",
        "    A1 = relu(Z1)         # Apply ReLU\n",
        "    Z2 = A1 @ W2 + b2     # Linear part\n",
        "    A2 = softmax(Z2)      # Apply softmax\n",
        "    return A2\n",
        "\n",
        "def cross_entropy(preds, targets, eps=1e-12):\n",
        "    preds = np.clip(preds, eps, 1 - eps)  # Avoid log(0) which is undefined and log(1) as it is = 0 , range = (eps , 1 - eps)\n",
        "    return -np.mean(np.sum(targets * np.log(preds), axis=1))\n",
        "\n",
        "def fitness_function(vector):\n",
        "    #Vector Decoding\n",
        "    W1, b1, W2, b2 = decode_vector(vector)\n",
        "\n",
        "    #Forward pass\n",
        "    probs = forward(x_train_subset, W1, b1, W2, b2)\n",
        "\n",
        "    #Cross-entropy loss\n",
        "    ce_loss = cross_entropy(probs, y_train_subset)\n",
        "\n",
        "    return ce_loss\n",
        "\n",
        "# He initialization for 32 ReLU units , \"\"weight = np.random.randn(...) * sqrt(2 / n)\"\"scaling the randoms\n",
        "def he_vector(input_dim=784, hidden_dim=32, output_dim=10):\n",
        "    w1 = np.random.randn(input_dim, hidden_dim) * np.sqrt(2 / input_dim)\n",
        "    b1 = np.zeros(hidden_dim)\n",
        "    w2 = np.random.randn(hidden_dim, output_dim) * np.sqrt(2 / hidden_dim)\n",
        "    b2 = np.zeros(output_dim)\n",
        "    return np.concatenate([w1.flatten(), b1, w2.flatten(), b2])"
      ]
    },
    {
      "cell_type": "markdown",
      "metadata": {
        "id": "6kSs887bYyDk"
      },
      "source": [
        "# Differential Evolution"
      ]
    },
    {
      "cell_type": "code",
      "execution_count": null,
      "metadata": {
        "execution": {
          "iopub.execute_input": "2025-05-10T14:23:15.676073Z",
          "iopub.status.busy": "2025-05-10T14:23:15.675775Z",
          "iopub.status.idle": "2025-05-10T14:23:15.698952Z",
          "shell.execute_reply": "2025-05-10T14:23:15.697962Z",
          "shell.execute_reply.started": "2025-05-10T14:23:15.676046Z"
        },
        "id": "WQiKwcysYyDk",
        "trusted": true
      },
      "outputs": [],
      "source": [
        "def de_step(pop, fit, F, CR, strategy):\n",
        "    size, dim = pop.shape\n",
        "    new_pop = np.empty_like(pop)\n",
        "    new_fit = np.empty(size)\n",
        "    best = pop[np.argmin(fit)]\n",
        "\n",
        "    for i in range(size):\n",
        "        xi = pop[i]\n",
        "        idxs = np.delete(np.arange(size), i)\n",
        "        r = pop[np.random.choice(idxs, 5, replace=False)]\n",
        "\n",
        "        # Mutation\n",
        "        if strategy == 'rand/1':\n",
        "            mutant = r[0] + F * (r[1] - r[2])\n",
        "        elif strategy == 'best/1':\n",
        "            mutant = best + F * (r[0] - r[1])\n",
        "        elif strategy == 'current-to-best/1':\n",
        "            mutant = xi + F * (best - xi) + F * (r[0] - r[1])\n",
        "        elif strategy == 'rand/2':\n",
        "            mutant = r[0] + F * (r[1] - r[2]) + F * (r[3] - r[4])\n",
        "        else:\n",
        "            raise ValueError(\"Unknown strategy\")\n",
        "\n",
        "        # Crossover\n",
        "        mask = np.random.rand(dim) < CR\n",
        "        if not np.any(mask):  # Ensure at least one gene is changed\n",
        "            mask[np.random.randint(dim)] = True\n",
        "        trial = np.where(mask, mutant, xi)\n",
        "\n",
        "        # Selection\n",
        "        trial_fit = fitness_function(trial)\n",
        "        if trial_fit <= fit[i]:\n",
        "            new_pop[i], new_fit[i] = trial, trial_fit\n",
        "        else:\n",
        "            new_pop[i], new_fit[i] = xi, fit[i]\n",
        "\n",
        "    return new_pop, new_fit"
      ]
    },
    {
      "cell_type": "markdown",
      "metadata": {
        "id": "6iA3-3yJYyDl"
      },
      "source": [
        "# Island Model"
      ]
    },
    {
      "cell_type": "code",
      "execution_count": null,
      "metadata": {
        "execution": {
          "iopub.execute_input": "2025-05-10T14:23:15.701313Z",
          "iopub.status.busy": "2025-05-10T14:23:15.700842Z",
          "iopub.status.idle": "2025-05-10T14:23:15.720176Z",
          "shell.execute_reply": "2025-05-10T14:23:15.719278Z",
          "shell.execute_reply.started": "2025-05-10T14:23:15.701287Z"
        },
        "id": "WZVUFlWIYyDm",
        "trusted": true
      },
      "outputs": [],
      "source": [
        "from joblib import Parallel, delayed\n",
        "# === Parallel fitness evaluation helper ===\n",
        "def parallel_fitness(pop):\n",
        "    return np.array(Parallel(n_jobs=-1)(delayed(fitness_function)(ind) for ind in pop))"
      ]
    },
    {
      "cell_type": "code",
      "execution_count": null,
      "metadata": {
        "execution": {
          "iopub.execute_input": "2025-05-10T14:23:15.721338Z",
          "iopub.status.busy": "2025-05-10T14:23:15.720997Z",
          "iopub.status.idle": "2025-05-10T14:23:15.738961Z",
          "shell.execute_reply": "2025-05-10T14:23:15.737955Z",
          "shell.execute_reply.started": "2025-05-10T14:23:15.721317Z"
        },
        "id": "EcKwaL6rYyDm",
        "trusted": true
      },
      "outputs": [],
      "source": [
        "def init_islands(pop_size, num_islands):\n",
        "    total_size = pop_size * num_islands\n",
        "    total_pop = np.array([he_vector() for _ in range(total_size)])\n",
        "    total_fit = parallel_fitness(total_pop)\n",
        "\n",
        "    # Randomly shuffle and split into islands\n",
        "    indices = np.random.permutation(total_size)\n",
        "    pop_shuffled = total_pop[indices]\n",
        "    fit_shuffled = total_fit[indices]\n",
        "\n",
        "    islands = np.array_split(pop_shuffled, num_islands)\n",
        "    fits = np.array_split(fit_shuffled, num_islands)\n",
        "\n",
        "    return list(islands), list(fits)"
      ]
    },
    {
      "cell_type": "code",
      "execution_count": null,
      "metadata": {
        "execution": {
          "iopub.execute_input": "2025-05-10T14:23:15.740252Z",
          "iopub.status.busy": "2025-05-10T14:23:15.739938Z",
          "iopub.status.idle": "2025-05-10T14:23:15.754556Z",
          "shell.execute_reply": "2025-05-10T14:23:15.753691Z",
          "shell.execute_reply.started": "2025-05-10T14:23:15.740231Z"
        },
        "id": "DIUiqGCcYyDm",
        "trusted": true
      },
      "outputs": [],
      "source": [
        "def island_model(vector_size, pop_size=20, generations=5000, migration_interval=50, num_islands=4):\n",
        "    strategies = ['rand/1', 'best/1', 'current-to-best/1', 'rand/2']\n",
        "    F_vals = [0.7, 0.7, 0.7, 0.7]\n",
        "    CR_vals = [0.8, 0.8, 0.8, 0.8]\n",
        "    islands, fits = init_islands(pop_size, num_islands)\n",
        "    loss_history = []\n",
        "\n",
        "    for gen in range(generations):\n",
        "        # Evolution step for each island\n",
        "        for i in range(num_islands):\n",
        "            islands[i], fits[i] = de_step(\n",
        "                islands[i], fits[i], F_vals[i], CR_vals[i], strategies[i]\n",
        "            )\n",
        "\n",
        "        # Migration step (ring topology)\n",
        "        if gen % migration_interval == 0 and gen > 0:\n",
        "            migrant_pool = [island[np.random.choice(pop_size, 2, replace=False)]\n",
        "                            for island in islands]\n",
        "\n",
        "            for i in range(num_islands):\n",
        "                next_i = (i + 1) % num_islands\n",
        "\n",
        "                # Get indices of 2 worst individuals in the destination island\n",
        "                worst_indices = np.argsort(-fits[next_i])[:2]\n",
        "\n",
        "                # Replace them with migrants\n",
        "                islands[next_i][worst_indices] = migrant_pool[i]\n",
        "                fits[next_i][worst_indices] = parallel_fitness(migrant_pool[i])\n",
        "\n",
        "        # Log best loss every generation\n",
        "        best_loss = min(np.min(f) for f in fits)\n",
        "        loss_history.append(best_loss)\n",
        "\n",
        "        # Logging every 100 generations\n",
        "        if gen % 100 == 0:\n",
        "            print(f\"[Gen {gen:04d}] Best Loss: {best_loss:.4f}\")\n",
        "            for i in range(num_islands):\n",
        "                best = np.min(fits[i])\n",
        "                avg = np.mean(fits[i])\n",
        "                print(f\"  Island {i+1:<2} | Best: {best:.4f} | Avg: {avg:.4f}\")\n",
        "\n",
        "    # Final return: best individual from all islands\n",
        "    all_pop = np.vstack(islands)\n",
        "    all_fit = np.concatenate(fits)\n",
        "    return all_pop[np.argmin(all_fit)] , loss_history"
      ]
    },
    {
      "cell_type": "markdown",
      "metadata": {
        "id": "TdiagbIUYyDn"
      },
      "source": [
        "# Run"
      ]
    },
    {
      "cell_type": "code",
      "execution_count": null,
      "metadata": {
        "execution": {
          "iopub.execute_input": "2025-05-10T14:23:15.756262Z",
          "iopub.status.busy": "2025-05-10T14:23:15.755913Z",
          "iopub.status.idle": "2025-05-10T16:13:27.810406Z",
          "shell.execute_reply": "2025-05-10T16:13:27.809644Z",
          "shell.execute_reply.started": "2025-05-10T14:23:15.756233Z"
        },
        "id": "ho957WQxYyDn",
        "outputId": "246368f2-0a32-4db4-8201-2e6187c04dc3",
        "trusted": true
      },
      "outputs": [
        {
          "name": "stdout",
          "output_type": "stream",
          "text": [
            "[Gen 0000] Best Loss: 2.2867\n",
            "  Island 1  | Best: 2.3149 | Avg: 2.4342\n",
            "  Island 2  | Best: 2.2880 | Avg: 2.3727\n",
            "  Island 3  | Best: 2.3155 | Avg: 2.3845\n",
            "  Island 4  | Best: 2.2867 | Avg: 2.4096\n",
            "[Gen 0100] Best Loss: 1.5522\n",
            "  Island 1  | Best: 2.2166 | Avg: 2.2837\n",
            "  Island 2  | Best: 1.5522 | Avg: 1.6560\n",
            "  Island 3  | Best: 1.5652 | Avg: 1.5819\n",
            "  Island 4  | Best: 1.5833 | Avg: 2.2474\n",
            "[Gen 0200] Best Loss: 1.0669\n",
            "  Island 1  | Best: 1.9655 | Avg: 2.2222\n",
            "  Island 2  | Best: 1.0669 | Avg: 1.1931\n",
            "  Island 3  | Best: 1.0698 | Avg: 1.3224\n",
            "  Island 4  | Best: 1.2355 | Avg: 1.9615\n",
            "[Gen 0300] Best Loss: 0.8669\n",
            "  Island 1  | Best: 1.2355 | Avg: 1.9935\n",
            "  Island 2  | Best: 0.8669 | Avg: 0.9914\n",
            "  Island 3  | Best: 0.8720 | Avg: 1.1556\n",
            "  Island 4  | Best: 0.9134 | Avg: 1.5127\n",
            "[Gen 0400] Best Loss: 0.7442\n",
            "  Island 1  | Best: 0.9134 | Avg: 1.6105\n",
            "  Island 2  | Best: 0.7442 | Avg: 0.8488\n",
            "  Island 3  | Best: 0.7489 | Avg: 0.9666\n",
            "  Island 4  | Best: 0.7592 | Avg: 1.2548\n",
            "[Gen 0500] Best Loss: 0.6722\n",
            "  Island 1  | Best: 0.9134 | Avg: 1.1707\n",
            "  Island 2  | Best: 0.6722 | Avg: 0.7054\n",
            "  Island 3  | Best: 0.6744 | Avg: 0.7841\n",
            "  Island 4  | Best: 0.6746 | Avg: 1.0977\n",
            "[Gen 0600] Best Loss: 0.6188\n",
            "  Island 1  | Best: 0.7293 | Avg: 0.9829\n",
            "  Island 2  | Best: 0.6196 | Avg: 0.6687\n",
            "  Island 3  | Best: 0.6188 | Avg: 0.6209\n",
            "  Island 4  | Best: 0.6206 | Avg: 0.9252\n",
            "[Gen 0700] Best Loss: 0.5644\n",
            "  Island 1  | Best: 0.6509 | Avg: 0.7296\n",
            "  Island 2  | Best: 0.5801 | Avg: 0.6211\n",
            "  Island 3  | Best: 0.5644 | Avg: 0.5665\n",
            "  Island 4  | Best: 0.5648 | Avg: 0.6727\n",
            "[Gen 0800] Best Loss: 0.5273\n",
            "  Island 1  | Best: 0.5489 | Avg: 0.6073\n",
            "  Island 2  | Best: 0.5457 | Avg: 0.5547\n",
            "  Island 3  | Best: 0.5273 | Avg: 0.5300\n",
            "  Island 4  | Best: 0.5273 | Avg: 0.5706\n",
            "[Gen 0900] Best Loss: 0.4978\n",
            "  Island 1  | Best: 0.5273 | Avg: 0.5532\n",
            "  Island 2  | Best: 0.5213 | Avg: 0.5254\n",
            "  Island 3  | Best: 0.4978 | Avg: 0.5007\n",
            "  Island 4  | Best: 0.4984 | Avg: 0.5337\n",
            "[Gen 1000] Best Loss: 0.4704\n",
            "  Island 1  | Best: 0.5041 | Avg: 0.5143\n",
            "  Island 2  | Best: 0.4869 | Avg: 0.4909\n",
            "  Island 3  | Best: 0.4704 | Avg: 0.4737\n",
            "  Island 4  | Best: 0.4719 | Avg: 0.5000\n",
            "[Gen 1100] Best Loss: 0.4471\n",
            "  Island 1  | Best: 0.4620 | Avg: 0.4942\n",
            "  Island 2  | Best: 0.4625 | Avg: 0.4668\n",
            "  Island 3  | Best: 0.4471 | Avg: 0.4493\n",
            "  Island 4  | Best: 0.4481 | Avg: 0.4751\n",
            "[Gen 1200] Best Loss: 0.4273\n",
            "  Island 1  | Best: 0.4479 | Avg: 0.4560\n",
            "  Island 2  | Best: 0.4342 | Avg: 0.4374\n",
            "  Island 3  | Best: 0.4273 | Avg: 0.4287\n",
            "  Island 4  | Best: 0.4273 | Avg: 0.4502\n",
            "[Gen 1300] Best Loss: 0.4036\n",
            "  Island 1  | Best: 0.4244 | Avg: 0.4368\n",
            "  Island 2  | Best: 0.4123 | Avg: 0.4159\n",
            "  Island 3  | Best: 0.4036 | Avg: 0.4049\n",
            "  Island 4  | Best: 0.4038 | Avg: 0.4268\n",
            "[Gen 1400] Best Loss: 0.3856\n",
            "  Island 1  | Best: 0.4114 | Avg: 0.4233\n",
            "  Island 2  | Best: 0.3967 | Avg: 0.4002\n",
            "  Island 3  | Best: 0.3856 | Avg: 0.3869\n",
            "  Island 4  | Best: 0.3856 | Avg: 0.4070\n",
            "[Gen 1500] Best Loss: 0.3716\n",
            "  Island 1  | Best: 0.3783 | Avg: 0.4067\n",
            "  Island 2  | Best: 0.3822 | Avg: 0.3849\n",
            "  Island 3  | Best: 0.3716 | Avg: 0.3729\n",
            "  Island 4  | Best: 0.3717 | Avg: 0.3875\n",
            "[Gen 1600] Best Loss: 0.3564\n",
            "  Island 1  | Best: 0.3717 | Avg: 0.3837\n",
            "  Island 2  | Best: 0.3677 | Avg: 0.3697\n",
            "  Island 3  | Best: 0.3564 | Avg: 0.3580\n",
            "  Island 4  | Best: 0.3570 | Avg: 0.3722\n",
            "[Gen 1700] Best Loss: 0.3426\n",
            "  Island 1  | Best: 0.3570 | Avg: 0.3688\n",
            "  Island 2  | Best: 0.3567 | Avg: 0.3582\n",
            "  Island 3  | Best: 0.3426 | Avg: 0.3443\n",
            "  Island 4  | Best: 0.3432 | Avg: 0.3592\n",
            "[Gen 1800] Best Loss: 0.3315\n",
            "  Island 1  | Best: 0.3427 | Avg: 0.3546\n",
            "  Island 2  | Best: 0.3401 | Avg: 0.3420\n",
            "  Island 3  | Best: 0.3315 | Avg: 0.3327\n",
            "  Island 4  | Best: 0.3315 | Avg: 0.3453\n",
            "[Gen 1900] Best Loss: 0.3208\n",
            "  Island 1  | Best: 0.3315 | Avg: 0.3392\n",
            "  Island 2  | Best: 0.3294 | Avg: 0.3308\n",
            "  Island 3  | Best: 0.3208 | Avg: 0.3220\n",
            "  Island 4  | Best: 0.3209 | Avg: 0.3327\n",
            "[Gen 2000] Best Loss: 0.3081\n",
            "  Island 1  | Best: 0.3258 | Avg: 0.3303\n",
            "  Island 2  | Best: 0.3160 | Avg: 0.3178\n",
            "  Island 3  | Best: 0.3081 | Avg: 0.3091\n",
            "  Island 4  | Best: 0.3081 | Avg: 0.3209\n",
            "[Gen 2100] Best Loss: 0.2997\n",
            "  Island 1  | Best: 0.3043 | Avg: 0.3185\n",
            "  Island 2  | Best: 0.3093 | Avg: 0.3104\n",
            "  Island 3  | Best: 0.2997 | Avg: 0.3008\n",
            "  Island 4  | Best: 0.2997 | Avg: 0.3098\n",
            "[Gen 2200] Best Loss: 0.2922\n",
            "  Island 1  | Best: 0.3023 | Avg: 0.3067\n",
            "  Island 2  | Best: 0.3022 | Avg: 0.3031\n",
            "  Island 3  | Best: 0.2922 | Avg: 0.2934\n",
            "  Island 4  | Best: 0.2922 | Avg: 0.3010\n",
            "[Gen 2300] Best Loss: 0.2850\n",
            "  Island 1  | Best: 0.2949 | Avg: 0.3010\n",
            "  Island 2  | Best: 0.2902 | Avg: 0.2914\n",
            "  Island 3  | Best: 0.2850 | Avg: 0.2857\n",
            "  Island 4  | Best: 0.2852 | Avg: 0.2930\n",
            "[Gen 2400] Best Loss: 0.2781\n",
            "  Island 1  | Best: 0.2863 | Avg: 0.2916\n",
            "  Island 2  | Best: 0.2829 | Avg: 0.2840\n",
            "  Island 3  | Best: 0.2781 | Avg: 0.2787\n",
            "  Island 4  | Best: 0.2782 | Avg: 0.2848\n",
            "[Gen 2500] Best Loss: 0.2698\n",
            "  Island 1  | Best: 0.2747 | Avg: 0.2830\n",
            "  Island 2  | Best: 0.2716 | Avg: 0.2732\n",
            "  Island 3  | Best: 0.2698 | Avg: 0.2703\n",
            "  Island 4  | Best: 0.2701 | Avg: 0.2770\n",
            "[Gen 2600] Best Loss: 0.2628\n",
            "  Island 1  | Best: 0.2662 | Avg: 0.2730\n",
            "  Island 2  | Best: 0.2653 | Avg: 0.2664\n",
            "  Island 3  | Best: 0.2628 | Avg: 0.2632\n",
            "  Island 4  | Best: 0.2628 | Avg: 0.2707\n",
            "[Gen 2700] Best Loss: 0.2549\n",
            "  Island 1  | Best: 0.2592 | Avg: 0.2645\n",
            "  Island 2  | Best: 0.2578 | Avg: 0.2587\n",
            "  Island 3  | Best: 0.2549 | Avg: 0.2554\n",
            "  Island 4  | Best: 0.2550 | Avg: 0.2635\n",
            "[Gen 2800] Best Loss: 0.2473\n",
            "  Island 1  | Best: 0.2533 | Avg: 0.2561\n",
            "  Island 2  | Best: 0.2516 | Avg: 0.2523\n",
            "  Island 3  | Best: 0.2473 | Avg: 0.2480\n",
            "  Island 4  | Best: 0.2475 | Avg: 0.2547\n",
            "[Gen 2900] Best Loss: 0.2415\n",
            "  Island 1  | Best: 0.2477 | Avg: 0.2511\n",
            "  Island 2  | Best: 0.2420 | Avg: 0.2432\n",
            "  Island 3  | Best: 0.2415 | Avg: 0.2416\n",
            "  Island 4  | Best: 0.2415 | Avg: 0.2475\n",
            "[Gen 3000] Best Loss: 0.2331\n",
            "  Island 1  | Best: 0.2438 | Avg: 0.2452\n",
            "  Island 2  | Best: 0.2352 | Avg: 0.2364\n",
            "  Island 3  | Best: 0.2331 | Avg: 0.2334\n",
            "  Island 4  | Best: 0.2331 | Avg: 0.2409\n",
            "[Gen 3100] Best Loss: 0.2267\n",
            "  Island 1  | Best: 0.2333 | Avg: 0.2366\n",
            "  Island 2  | Best: 0.2312 | Avg: 0.2319\n",
            "  Island 3  | Best: 0.2267 | Avg: 0.2273\n",
            "  Island 4  | Best: 0.2269 | Avg: 0.2335\n",
            "[Gen 3200] Best Loss: 0.2212\n",
            "  Island 1  | Best: 0.2278 | Avg: 0.2320\n",
            "  Island 2  | Best: 0.2231 | Avg: 0.2243\n",
            "  Island 3  | Best: 0.2212 | Avg: 0.2215\n",
            "  Island 4  | Best: 0.2213 | Avg: 0.2271\n",
            "[Gen 3300] Best Loss: 0.2159\n",
            "  Island 1  | Best: 0.2213 | Avg: 0.2274\n",
            "  Island 2  | Best: 0.2190 | Avg: 0.2200\n",
            "  Island 3  | Best: 0.2159 | Avg: 0.2163\n",
            "  Island 4  | Best: 0.2159 | Avg: 0.2223\n",
            "[Gen 3400] Best Loss: 0.2107\n",
            "  Island 1  | Best: 0.2159 | Avg: 0.2177\n",
            "  Island 2  | Best: 0.2141 | Avg: 0.2147\n",
            "  Island 3  | Best: 0.2107 | Avg: 0.2111\n",
            "  Island 4  | Best: 0.2108 | Avg: 0.2157\n",
            "[Gen 3500] Best Loss: 0.2065\n",
            "  Island 1  | Best: 0.2108 | Avg: 0.2126\n",
            "  Island 2  | Best: 0.2079 | Avg: 0.2087\n",
            "  Island 3  | Best: 0.2065 | Avg: 0.2068\n",
            "  Island 4  | Best: 0.2066 | Avg: 0.2110\n",
            "[Gen 3600] Best Loss: 0.2015\n",
            "  Island 1  | Best: 0.2066 | Avg: 0.2086\n",
            "  Island 2  | Best: 0.2043 | Avg: 0.2049\n",
            "  Island 3  | Best: 0.2015 | Avg: 0.2019\n",
            "  Island 4  | Best: 0.2016 | Avg: 0.2067\n",
            "[Gen 3700] Best Loss: 0.1974\n",
            "  Island 1  | Best: 0.1995 | Avg: 0.2053\n",
            "  Island 2  | Best: 0.2014 | Avg: 0.2019\n",
            "  Island 3  | Best: 0.1974 | Avg: 0.1979\n",
            "  Island 4  | Best: 0.1974 | Avg: 0.2025\n",
            "[Gen 3800] Best Loss: 0.1943\n",
            "  Island 1  | Best: 0.1960 | Avg: 0.1988\n",
            "  Island 2  | Best: 0.1954 | Avg: 0.1959\n",
            "  Island 3  | Best: 0.1943 | Avg: 0.1945\n",
            "  Island 4  | Best: 0.1944 | Avg: 0.1981\n",
            "[Gen 3900] Best Loss: 0.1902\n",
            "  Island 1  | Best: 0.1944 | Avg: 0.1954\n",
            "  Island 2  | Best: 0.1910 | Avg: 0.1916\n",
            "  Island 3  | Best: 0.1902 | Avg: 0.1903\n",
            "  Island 4  | Best: 0.1902 | Avg: 0.1942\n",
            "[Gen 4000] Best Loss: 0.1859\n",
            "  Island 1  | Best: 0.1889 | Avg: 0.1921\n",
            "  Island 2  | Best: 0.1872 | Avg: 0.1879\n",
            "  Island 3  | Best: 0.1859 | Avg: 0.1861\n",
            "  Island 4  | Best: 0.1859 | Avg: 0.1896\n",
            "[Gen 4100] Best Loss: 0.1816\n",
            "  Island 1  | Best: 0.1861 | Avg: 0.1886\n",
            "  Island 2  | Best: 0.1846 | Avg: 0.1851\n",
            "  Island 3  | Best: 0.1816 | Avg: 0.1820\n",
            "  Island 4  | Best: 0.1816 | Avg: 0.1856\n",
            "[Gen 4200] Best Loss: 0.1780\n",
            "  Island 1  | Best: 0.1808 | Avg: 0.1831\n",
            "  Island 2  | Best: 0.1823 | Avg: 0.1825\n",
            "  Island 3  | Best: 0.1780 | Avg: 0.1785\n",
            "  Island 4  | Best: 0.1781 | Avg: 0.1818\n",
            "[Gen 4300] Best Loss: 0.1749\n",
            "  Island 1  | Best: 0.1791 | Avg: 0.1799\n",
            "  Island 2  | Best: 0.1772 | Avg: 0.1775\n",
            "  Island 3  | Best: 0.1749 | Avg: 0.1752\n",
            "  Island 4  | Best: 0.1750 | Avg: 0.1781\n",
            "[Gen 4400] Best Loss: 0.1719\n",
            "  Island 1  | Best: 0.1750 | Avg: 0.1778\n",
            "  Island 2  | Best: 0.1739 | Avg: 0.1744\n",
            "  Island 3  | Best: 0.1719 | Avg: 0.1722\n",
            "  Island 4  | Best: 0.1720 | Avg: 0.1753\n",
            "[Gen 4500] Best Loss: 0.1686\n",
            "  Island 1  | Best: 0.1709 | Avg: 0.1747\n",
            "  Island 2  | Best: 0.1703 | Avg: 0.1707\n",
            "  Island 3  | Best: 0.1686 | Avg: 0.1688\n",
            "  Island 4  | Best: 0.1686 | Avg: 0.1719\n",
            "[Gen 4600] Best Loss: 0.1653\n",
            "  Island 1  | Best: 0.1701 | Avg: 0.1716\n",
            "  Island 2  | Best: 0.1678 | Avg: 0.1682\n",
            "  Island 3  | Best: 0.1653 | Avg: 0.1656\n",
            "  Island 4  | Best: 0.1654 | Avg: 0.1694\n",
            "[Gen 4700] Best Loss: 0.1617\n",
            "  Island 1  | Best: 0.1654 | Avg: 0.1690\n",
            "  Island 2  | Best: 0.1647 | Avg: 0.1652\n",
            "  Island 3  | Best: 0.1617 | Avg: 0.1620\n",
            "  Island 4  | Best: 0.1617 | Avg: 0.1657\n",
            "[Gen 4800] Best Loss: 0.1586\n",
            "  Island 1  | Best: 0.1601 | Avg: 0.1655\n",
            "  Island 2  | Best: 0.1618 | Avg: 0.1623\n",
            "  Island 3  | Best: 0.1586 | Avg: 0.1590\n",
            "  Island 4  | Best: 0.1586 | Avg: 0.1626\n",
            "[Gen 4900] Best Loss: 0.1559\n",
            "  Island 1  | Best: 0.1587 | Avg: 0.1605\n",
            "  Island 2  | Best: 0.1563 | Avg: 0.1568\n",
            "  Island 3  | Best: 0.1559 | Avg: 0.1560\n",
            "  Island 4  | Best: 0.1560 | Avg: 0.1590\n"
          ]
        }
      ],
      "source": [
        "# Set seed for reproducibility\n",
        "np.random.seed(SEED)\n",
        "best_solution ,loss_history = island_model(vector_size=25450 )"
      ]
    },
    {
      "cell_type": "markdown",
      "metadata": {
        "id": "lCis2PEwYyDo"
      },
      "source": [
        "# Plot"
      ]
    },
    {
      "cell_type": "code",
      "execution_count": null,
      "metadata": {
        "execution": {
          "iopub.execute_input": "2025-05-10T16:13:27.811826Z",
          "iopub.status.busy": "2025-05-10T16:13:27.811569Z",
          "iopub.status.idle": "2025-05-10T16:13:27.816069Z",
          "shell.execute_reply": "2025-05-10T16:13:27.815189Z",
          "shell.execute_reply.started": "2025-05-10T16:13:27.811808Z"
        },
        "id": "yRd8RLgwYyDp",
        "trusted": true
      },
      "outputs": [],
      "source": [
        "import matplotlib.pyplot as plt\n",
        "from sklearn.metrics import confusion_matrix\n",
        "from sklearn.metrics import ConfusionMatrixDisplay"
      ]
    },
    {
      "cell_type": "code",
      "execution_count": null,
      "metadata": {
        "execution": {
          "iopub.execute_input": "2025-05-10T16:13:27.817855Z",
          "iopub.status.busy": "2025-05-10T16:13:27.817271Z",
          "iopub.status.idle": "2025-05-10T16:13:28.097931Z",
          "shell.execute_reply": "2025-05-10T16:13:28.096976Z",
          "shell.execute_reply.started": "2025-05-10T16:13:27.817831Z"
        },
        "id": "OLeTGCL3YyDp",
        "outputId": "da6a6ba9-f355-4003-85cd-6b54b2cdacb7",
        "trusted": true
      },
      "outputs": [
        {
          "name": "stdout",
          "output_type": "stream",
          "text": [
            "\n",
            "Final Train Accuracy: 96.04%\n",
            "Final Test Accuracy: 88.99%\n"
          ]
        }
      ],
      "source": [
        "# Decode weights and predict\n",
        "decoded_weights = decode_vector(best_solution)\n",
        "predictions_test = forward(x_test_subset, *decoded_weights)\n",
        "predictions_train = forward(x_train_subset, *decoded_weights)\n",
        "\n",
        "# Labels and accuracy\n",
        "predicted_labels = np.argmax(predictions_test, axis=1)\n",
        "true_labels = np.argmax(y_test_subset, axis=1)\n",
        "test_accuracy = np.mean(predicted_labels == true_labels)\n",
        "train_accuracy = np.mean(np.argmax(predictions_train, axis=1) == np.argmax(y_train_subset, axis=1))\n",
        "\n",
        "print(f\"\\nFinal Train Accuracy: {train_accuracy * 100:.2f}%\")\n",
        "print(f\"Final Test Accuracy: {test_accuracy * 100:.2f}%\")"
      ]
    },
    {
      "cell_type": "code",
      "execution_count": null,
      "metadata": {
        "execution": {
          "iopub.execute_input": "2025-05-10T16:13:28.100990Z",
          "iopub.status.busy": "2025-05-10T16:13:28.100713Z",
          "iopub.status.idle": "2025-05-10T16:13:28.262532Z",
          "shell.execute_reply": "2025-05-10T16:13:28.261645Z",
          "shell.execute_reply.started": "2025-05-10T16:13:28.100970Z"
        },
        "id": "oAN2WK3vYyDp",
        "outputId": "1b9a2f66-fd0b-467d-8740-a3c66d505731",
        "trusted": true
      },
      "outputs": [
        {
          "data": {
            "image/png": "[encoded data removed]",
            "text/plain": [
              "<Figure size 640x480 with 1 Axes>"
            ]
          },
          "metadata": {},
          "output_type": "display_data"
        }
      ],
      "source": [
        "# Plot loss per generation\n",
        "plt.plot(loss_history, label='Loss')\n",
        "plt.xlabel('Generation')\n",
        "plt.ylabel('Best Loss')\n",
        "plt.title('Loss vs Generation')\n",
        "plt.grid(True)\n",
        "plt.show()"
      ]
    },
    {
      "cell_type": "code",
      "execution_count": null,
      "metadata": {
        "execution": {
          "iopub.execute_input": "2025-05-10T16:13:28.263709Z",
          "iopub.status.busy": "2025-05-10T16:13:28.263408Z",
          "iopub.status.idle": "2025-05-10T16:13:28.631607Z",
          "shell.execute_reply": "2025-05-10T16:13:28.630673Z",
          "shell.execute_reply.started": "2025-05-10T16:13:28.263687Z"
        },
        "id": "6EqLcd4IYyDq",
        "outputId": "10da7e81-02be-421f-c0d1-30739a0e6266",
        "trusted": true
      },
      "outputs": [
        {
          "data": {
            "image/png": "[encoded data removed]",
            "text/plain": [
              "<Figure size 640x480 with 2 Axes>"
            ]
          },
          "metadata": {},
          "output_type": "display_data"
        }
      ],
      "source": [
        "# Confusion Matrix\n",
        "cm = confusion_matrix(true_labels, predicted_labels)\n",
        "disp = ConfusionMatrixDisplay(confusion_matrix=cm)\n",
        "disp.plot(cmap='Blues', values_format='d')\n",
        "plt.title(\"Confusion Matrix\")\n",
        "plt.show()"
      ]
    }
  ],
  "metadata": {
    "colab": {
      "collapsed_sections": [
        "QdYflgmlYyDb",
        "m7xk4JbHYyDg",
        "XwEVhg2WYyDj"
      ],
      "provenance": []
    },
    "kaggle": {
      "accelerator": "none",
      "dataSources": [],
      "dockerImageVersionId": 31012,
      "isGpuEnabled": false,
      "isInternetEnabled": true,
      "language": "python",
      "sourceType": "notebook"
    },
    "kernelspec": {
      "display_name": "Python 3",
      "language": "python",
      "name": "python3"
    },
    "language_info": {
      "codemirror_mode": {
        "name": "ipython",
        "version": 3
      },
      "file_extension": ".py",
      "mimetype": "text/x-python",
      "name": "python",
      "nbconvert_exporter": "python",
      "pygments_lexer": "ipython3",
      "version": "3.11.11"
    }
  },
  "nbformat": 4,
  "nbformat_minor": 0
}
